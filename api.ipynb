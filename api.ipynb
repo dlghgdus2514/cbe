{
 "cells": [
  {
   "cell_type": "code",
   "execution_count": 1,
   "metadata": {},
   "outputs": [
    {
     "name": "stdout",
     "output_type": "stream",
     "text": [
      "Requirement already satisfied: requests in /home/codespace/.local/lib/python3.10/site-packages (2.31.0)\n",
      "Requirement already satisfied: charset-normalizer<4,>=2 in /home/codespace/.local/lib/python3.10/site-packages (from requests) (3.3.2)\n",
      "Requirement already satisfied: idna<4,>=2.5 in /home/codespace/.local/lib/python3.10/site-packages (from requests) (3.6)\n",
      "Requirement already satisfied: urllib3<3,>=1.21.1 in /usr/local/python/3.10.13/lib/python3.10/site-packages (from requests) (2.0.7)\n",
      "Requirement already satisfied: certifi>=2017.4.17 in /home/codespace/.local/lib/python3.10/site-packages (from requests) (2023.11.17)\n",
      "Note: you may need to restart the kernel to use updated packages.\n"
     ]
    }
   ],
   "source": [
    "%pip install requests #리퀘스트 라이브러리 다운로드"
   ]
  },
  {
   "cell_type": "code",
   "execution_count": 2,
   "metadata": {},
   "outputs": [],
   "source": [
    "import requests #requests 라이브러리 임포트"
   ]
  },
  {
   "cell_type": "code",
   "execution_count": 4,
   "metadata": {},
   "outputs": [],
   "source": [
    "#내이버에 get요청\n",
    "r = requests.get(\"https://www.naver.com/\")"
   ]
  },
  {
   "cell_type": "code",
   "execution_count": 6,
   "metadata": {},
   "outputs": [],
   "source": [
    "print(r.text, file=open(\"a.htmk\",\"w\"))"
   ]
  },
  {
   "cell_type": "code",
   "execution_count": 9,
   "metadata": {},
   "outputs": [
    {
     "data": {
      "text/plain": [
       "'{\"schoolInfo\":[{\"head\":[{\"list_total_count\":12551},{\"RESULT\":{\"CODE\":\"INFO-000\",\"MESSAGE\":\"정상 처리되었습니다.\"}}]},{\"row\":[{\"ATPT_OFCDC_SC_CODE\":\"B10\",\"ATPT_OFCDC_SC_NM\":\"서울특별시교육청\",\"SD_SCHUL_CODE\":\"7010057\",\"SCHUL_NM\":\"가락고등학교\",\"ENG_SCHUL_NM\":\"Garak High School\",\"SCHUL_KND_SC_NM\":\"고등학교\",\"LCTN_SC_NM\":\"서울특별시\",\"JU_ORG_NM\":\"서울특별시교육청\",\"FOND_SC_NM\":\"공립\",\"ORG_RDNZC\":\"05678 \",\"ORG_RDNMA\":\"서울특별시 송파구 송이로 42\",\"ORG_RDNDA\":\"(송파동/가락고등학교)\",\"ORG_TELNO\":\"02-416-4658\",\"HMPG_ADRES\":\"http://garak.sen.hs.kr\",\"COEDU_SC_NM\":\"남여공학\",\"ORG_FAXNO\":\"02-421-9669\",\"HS_SC_NM\":\"일반고\",\"INDST_SPECL_CCCCL_EXST_YN\":\"N\",\"HS_GNRL_BUSNS_SC_NM\":\"일반계\",\"SPCLY_PURPS_HS_ORD_NM\":null,\"ENE_BFE_SEHF_SC_NM\":\"후기\",\"DGHT_SC_NM\":\"주간\",\"FOND_YMD\":\"19881223\",\"FOAS_MEMRD\":\"19890428\",\"LOAD_DTM\":\"20230615\"},{\"ATPT_OFCDC_SC_CODE\":\"B10\",\"ATPT_OFCDC_SC_NM\":\"서울특별시교육청\",\"SD_SCHUL_CODE\":\"7130165\",\"SCHUL_NM\":\"가락중학교\",\"ENG_SCHUL_NM\":\"Karak Middle School\",\"SCHUL_KND_SC_NM\":\"중학교\",\"LCTN_SC_NM\":\"서울특별시\",\"JU_ORG_NM\":\"서울특별시강동송파교육지원청\",\"FOND_SC_NM\":\"공립\",\"ORG_RDNZC\":\"05673 \",\"ORG_RDNMA\":\"서울특별시 송파구 송이로 45\",\"ORG_RDNDA\":\"(송파동/가락중학교)\",\"ORG_TELNO\":\"02-2143-3102\",\"HMPG_ADRES\":\"http://www.karak.ms.kr\",\"COEDU_SC_NM\":\"남여공학\",\"ORG_FAXNO\":\"02-2143-3119\",\"HS_SC_NM\":\"  \",\"INDST_SPECL_CCCCL_EXST_YN\":\"N\",\"HS_GNRL_BUSNS_SC_NM\":\"일반계\",\"SPCLY_PURPS_HS_ORD_NM\":null,\"ENE_BFE_SEHF_SC_NM\":\"전기\",\"DGHT_SC_NM\":\"주간\",\"FOND_YMD\":\"19860129\",\"FOAS_MEMRD\":\"19860506\",\"LOAD_DTM\":\"20230615\"},{\"ATPT_OFCDC_SC_CODE\":\"B10\",\"ATPT_OFCDC_SC_NM\":\"서울특별시교육청\",\"SD_SCHUL_CODE\":\"7041164\",\"SCHUL_NM\":\"가산중학교\",\"ENG_SCHUL_NM\":\"Gasan Middle School\",\"SCHUL_KND_SC_NM\":\"중학교\",\"LCTN_SC_NM\":\"서울특별시\",\"JU_ORG_NM\":\"서울특별시남부교육지원청\",\"FOND_SC_NM\":\"공립\",\"ORG_RDNZC\":\"08584 \",\"ORG_RDNMA\":\"서울특별시 금천구 시흥대로115길 48\",\"ORG_RDNDA\":\"(독산동)\",\"ORG_TELNO\":\"02-804-1777\",\"HMPG_ADRES\":\"http://www.gasan.ms.kr\",\"COEDU_SC_NM\":\"남여공학\",\"ORG_FAXNO\":\"02-892-8477\",\"HS_SC_NM\":\"  \",\"INDST_SPECL_CCCCL_EXST_YN\":\"N\",\"HS_GNRL_BUSNS_SC_NM\":\"일반계\",\"SPCLY_PURPS_HS_ORD_NM\":null,\"ENE_BFE_SEHF_SC_NM\":\"전기\",\"DGHT_SC_NM\":\"주간\",\"FOND_YMD\":\"19700810\",\"FOAS_MEMRD\":\"19710303\",\"LOAD_DTM\":\"20230615\"},{\"ATPT_OFCDC_SC_CODE\":\"B10\",\"ATPT_OFCDC_SC_NM\":\"서울특별시교육청\",\"SD_SCHUL_CODE\":\"7130166\",\"SCHUL_NM\":\"가원중학교\",\"ENG_SCHUL_NM\":\"Gawon Middle School\",\"SCHUL_KND_SC_NM\":\"중학교\",\"LCTN_SC_NM\":\"서울특별시\",\"JU_ORG_NM\":\"서울특별시강동송파교육지원청\",\"FOND_SC_NM\":\"공립\",\"ORG_RDNZC\":\"05831 \",\"ORG_RDNMA\":\"서울특별시 송파구 중대로10길 40-18\",\"ORG_RDNDA\":\"(가락동/가원중학교)\",\"ORG_TELNO\":\"02-409-2179\",\"HMPG_ADRES\":\"www.gawon.ms.kr\",\"COEDU_SC_NM\":\"남여공학\",\"ORG_FAXNO\":\"02-443-5825\",\"HS_SC_NM\":\"  \",\"INDST_SPECL_CCCCL_EXST_YN\":\"N\",\"HS_GNRL_BUSNS_SC_NM\":\"일반계\",\"SPCLY_PURPS_HS_ORD_NM\":null,\"ENE_BFE_SEHF_SC_NM\":\"전기\",\"DGHT_SC_NM\":\"주간\",\"FOND_YMD\":\"19881224\",\"FOAS_MEMRD\":\"19881224\",\"LOAD_DTM\":\"20230615\"},{\"ATPT_OFCDC_SC_CODE\":\"B10\",\"ATPT_OFCDC_SC_NM\":\"서울특별시교육청\",\"SD_SCHUL_CODE\":\"7011169\",\"SCHUL_NM\":\"가재울고등학교\",\"ENG_SCHUL_NM\":\"Gajaeul High School\",\"SCHUL_KND_SC_NM\":\"고등학교\",\"LCTN_SC_NM\":\"서울특별시\",\"JU_ORG_NM\":\"서울특별시교육청\",\"FOND_SC_NM\":\"공립\",\"ORG_RDNZC\":\"03709 \",\"ORG_RDNMA\":\"서울특별시 서대문구 수색로 100-35\",\"ORG_RDNDA\":\"(북가좌동)\",\"ORG_TELNO\":\"02-6351-0500\",\"HMPG_ADRES\":\"http://www.gajaeul.hs.kr\",\"COEDU_SC_NM\":\"남여공학\",\"ORG_FAXNO\":\"02-307-6605\",\"HS_SC_NM\":\"일반고\",\"INDST_SPECL_CCCCL_EXST_YN\":\"N\",\"HS_GNRL_BUSNS_SC_NM\":\"일반계\",\"SPCLY_PURPS_HS_ORD_NM\":null,\"ENE_BFE_SEHF_SC_NM\":\"후기\",\"DGHT_SC_NM\":\"주간\",\"FOND_YMD\":\"20130301\",\"FOAS_MEMRD\":\"20130501\",\"LOAD_DTM\":\"20230615\"}]}]}'"
      ]
     },
     "execution_count": 9,
     "metadata": {},
     "output_type": "execute_result"
    }
   ],
   "source": [
    "url = \"https://open.neis.go.kr/hub/schoolInfo\"\n",
    "params = { #파라미터 사전\n",
    "    \"type\":\"json\", \n",
    "}\n",
    "r = requests.get(url,params=params)\n",
    "r.text"
   ]
  },
  {
   "cell_type": "code",
   "execution_count": 13,
   "metadata": {},
   "outputs": [
    {
     "data": {
      "text/plain": [
       "{'row': [{'ATPT_OFCDC_SC_CODE': 'M10',\n",
       "   'ATPT_OFCDC_SC_NM': '충청북도교육청',\n",
       "   'SD_SCHUL_CODE': '8000064',\n",
       "   'SCHUL_NM': '청산고등학교',\n",
       "   'ENG_SCHUL_NM': 'Chongsan High School',\n",
       "   'SCHUL_KND_SC_NM': '고등학교',\n",
       "   'LCTN_SC_NM': '충청북도',\n",
       "   'JU_ORG_NM': '충청북도교육청',\n",
       "   'FOND_SC_NM': '공립',\n",
       "   'ORG_RDNZC': '29013 ',\n",
       "   'ORG_RDNMA': '충청북도 옥천군 청산면 청산로 92',\n",
       "   'ORG_RDNDA': '(청산면/ 관공서(청산고등학교))',\n",
       "   'ORG_TELNO': '043-732-8177',\n",
       "   'HMPG_ADRES': 'http://school.cbe.go.kr/chongsan-h/M01',\n",
       "   'COEDU_SC_NM': '남여공학',\n",
       "   'ORG_FAXNO': '043-732-8152',\n",
       "   'HS_SC_NM': '일반고',\n",
       "   'INDST_SPECL_CCCCL_EXST_YN': 'N',\n",
       "   'HS_GNRL_BUSNS_SC_NM': '일반계',\n",
       "   'SPCLY_PURPS_HS_ORD_NM': None,\n",
       "   'ENE_BFE_SEHF_SC_NM': '전기',\n",
       "   'DGHT_SC_NM': '주간',\n",
       "   'FOND_YMD': '19550601',\n",
       "   'FOAS_MEMRD': '19550601',\n",
       "   'LOAD_DTM': '20230615'}]}"
      ]
     },
     "execution_count": 13,
     "metadata": {},
     "output_type": "execute_result"
    }
   ],
   "source": [
    "url = \"https://open.neis.go.kr/hub/schoolInfo\"\n",
    "params = { #파라미터 사전\n",
    "    \"type\":\"json\", \n",
    "    \"SCHUL_NM\":\"청산고\",\n",
    "}\n",
    "r = requests.get(url,params=params)\n",
    "r.json()['schoolInfo'][1]['row']\n"
   ]
  },
  {
   "cell_type": "code",
   "execution_count": null,
   "metadata": {},
   "outputs": [],
   "source": []
  }
 ],
 "metadata": {
  "kernelspec": {
   "display_name": "Python 3",
   "language": "python",
   "name": "python3"
  },
  "language_info": {
   "codemirror_mode": {
    "name": "ipython",
    "version": 3
   },
   "file_extension": ".py",
   "mimetype": "text/x-python",
   "name": "python",
   "nbconvert_exporter": "python",
   "pygments_lexer": "ipython3",
   "version": "3.10.13"
  }
 },
 "nbformat": 4,
 "nbformat_minor": 2
}
