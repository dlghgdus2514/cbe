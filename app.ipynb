{
 "cells": [
  {
   "cell_type": "code",
   "execution_count": 33,
   "metadata": {},
   "outputs": [
    {
     "name": "stdout",
     "output_type": "stream",
     "text": [
      "하이\n"
     ]
    }
   ],
   "source": [
    "print(\"하이\")\n"
   ]
  },
  {
   "cell_type": "code",
   "execution_count": 34,
   "metadata": {},
   "outputs": [
    {
     "data": {
      "text/plain": [
       "5"
      ]
     },
     "execution_count": 34,
     "metadata": {},
     "output_type": "execute_result"
    }
   ],
   "source": [
    "l = [1,2,3,4,5]\n",
    "l.append(6)\n",
    "l.pop(1)\n",
    "len(l)#len(엘)"
   ]
  },
  {
   "cell_type": "code",
   "execution_count": 35,
   "metadata": {},
   "outputs": [],
   "source": [
    "# for 변수명 i 반복할자료:\n",
    "for i in l:\n",
    "    print(i, end=\"💖\" , file=open(\"a.txt\", \"a\")) # 줄을바꾸지 말고, 한줄에 출력하기, a에 컨트롤+스페이스(무엇을 넣을지 알려줌)"
   ]
  },
  {
   "cell_type": "code",
   "execution_count": 36,
   "metadata": {},
   "outputs": [
    {
     "data": {
      "text/plain": [
       "['안', '녕', '하', '세', '요']"
      ]
     },
     "execution_count": 36,
     "metadata": {},
     "output_type": "execute_result"
    }
   ],
   "source": [
    "list(\"안녕하세요\")"
   ]
  },
  {
   "cell_type": "code",
   "execution_count": 37,
   "metadata": {},
   "outputs": [
    {
     "data": {
      "text/plain": [
       "[0, 1, 2, 3, 4, 5, 6, 7, 8, 9]"
      ]
     },
     "execution_count": 37,
     "metadata": {},
     "output_type": "execute_result"
    }
   ],
   "source": [
    "list(range(10))"
   ]
  },
  {
   "cell_type": "code",
   "execution_count": 38,
   "metadata": {},
   "outputs": [
    {
     "name": "stdout",
     "output_type": "stream",
     "text": [
      "55\n"
     ]
    }
   ],
   "source": [
    "#1부터 10까지 출력하기\n",
    "a = 0 #1부터10까지의 더한 값을 저장할 변수\n",
    "for i in range(11):\n",
    "    a = a + i\n",
    "print(a)"
   ]
  },
  {
   "cell_type": "code",
   "execution_count": 39,
   "metadata": {},
   "outputs": [
    {
     "name": "stdout",
     "output_type": "stream",
     "text": [
      "30\n"
     ]
    }
   ],
   "source": [
    "#1부터 10까지 출력하기\n",
    "a = 0 #1부터10까지의 짝수의 값을 저장할 변수\n",
    "for i in range(0,11,2):\n",
    "    a = a + i\n",
    "print(a)"
   ]
  },
  {
   "cell_type": "code",
   "execution_count": 40,
   "metadata": {},
   "outputs": [
    {
     "name": "stdout",
     "output_type": "stream",
     "text": [
      "25\n"
     ]
    }
   ],
   "source": [
    "#1부터 10까지 출력하기\n",
    "a = 0 #1부터10까지의 홀수의 값을 저장할 변수\n",
    "for i in range(1,11,2):\n",
    "    a = a + i\n",
    "print(a)"
   ]
  },
  {
   "cell_type": "code",
   "execution_count": 41,
   "metadata": {},
   "outputs": [
    {
     "data": {
      "text/plain": [
       "30"
      ]
     },
     "execution_count": 41,
     "metadata": {},
     "output_type": "execute_result"
    }
   ],
   "source": [
    "sum(list(range(0,11,2)))"
   ]
  },
  {
   "cell_type": "code",
   "execution_count": 42,
   "metadata": {},
   "outputs": [
    {
     "data": {
      "text/plain": [
       "55"
      ]
     },
     "execution_count": 42,
     "metadata": {},
     "output_type": "execute_result"
    }
   ],
   "source": [
    "sum(list(range(11)))"
   ]
  },
  {
   "cell_type": "code",
   "execution_count": 43,
   "metadata": {},
   "outputs": [
    {
     "data": {
      "text/plain": [
       "10"
      ]
     },
     "execution_count": 43,
     "metadata": {},
     "output_type": "execute_result"
    }
   ],
   "source": [
    "max(list(range(11)))"
   ]
  },
  {
   "cell_type": "code",
   "execution_count": 44,
   "metadata": {},
   "outputs": [
    {
     "data": {
      "text/plain": [
       "0"
      ]
     },
     "execution_count": 44,
     "metadata": {},
     "output_type": "execute_result"
    }
   ],
   "source": [
    "min(list(range(11)))"
   ]
  },
  {
   "cell_type": "code",
   "execution_count": 47,
   "metadata": {},
   "outputs": [
    {
     "name": "stdout",
     "output_type": "stream",
     "text": [
      "배고파\n",
      "이것도 반복문\n",
      "이것도 반복문\n",
      "이것도 반복문\n",
      "이것도 반복문\n",
      "이것도 반복문\n",
      "이것도 반복문\n",
      "이것도 반복문\n",
      "이것도 반복문\n",
      "이것도 반복문\n",
      "이것도 반복문\n"
     ]
    }
   ],
   "source": [
    "while True: #조거에 따라 반복, 무한반복, 멈추고 싶을때 상단에 재시작 혹은 중단, 조건이 참(True)일때 반복, 특정조건에서 반복할때\n",
    "    print(\"배고파\")\n",
    "    break\n",
    "for _ in range(10): #자료에 따라 반복\n",
    "    print(\"이것도 반복문\")"
   ]
  },
  {
   "cell_type": "code",
   "execution_count": 48,
   "metadata": {},
   "outputs": [
    {
     "data": {
      "text/plain": [
       "(10, 20)"
      ]
     },
     "execution_count": 48,
     "metadata": {},
     "output_type": "execute_result"
    }
   ],
   "source": [
    "10, 20\n"
   ]
  },
  {
   "cell_type": "code",
   "execution_count": 49,
   "metadata": {},
   "outputs": [
    {
     "data": {
      "text/plain": [
       "(10, 20)"
      ]
     },
     "execution_count": 49,
     "metadata": {},
     "output_type": "execute_result"
    }
   ],
   "source": [
    "data = 10,20 #출력물에 괄호, 이것이 tuple\n",
    "data"
   ]
  },
  {
   "cell_type": "code",
   "execution_count": 50,
   "metadata": {},
   "outputs": [
    {
     "data": {
      "text/plain": [
       "3"
      ]
     },
     "execution_count": 50,
     "metadata": {},
     "output_type": "execute_result"
    }
   ],
   "source": [
    "data = 1,2,3,4,5\n",
    "data[2]"
   ]
  },
  {
   "cell_type": "code",
   "execution_count": 51,
   "metadata": {},
   "outputs": [
    {
     "data": {
      "text/plain": [
       "(1,)"
      ]
     },
     "execution_count": 51,
     "metadata": {},
     "output_type": "execute_result"
    }
   ],
   "source": [
    "data = 1,\n",
    "data"
   ]
  },
  {
   "cell_type": "code",
   "execution_count": 53,
   "metadata": {},
   "outputs": [
    {
     "name": "stdout",
     "output_type": "stream",
     "text": [
      "1\n",
      "2\n",
      "3\n",
      "4\n",
      "5\n",
      "6\n"
     ]
    }
   ],
   "source": [
    "data = 1,2,3,4,5,6 #튜플, 성적등 숫자가 바뀌면 안될 경우, 함수에서는 반드시 있어야 함\n",
    "for i in data:\n",
    "    print(i)"
   ]
  },
  {
   "cell_type": "code",
   "execution_count": 57,
   "metadata": {},
   "outputs": [
    {
     "name": "stdout",
     "output_type": "stream",
     "text": [
      "기아\n",
      "현대\n",
      "Bmw\n",
      "Audi\n",
      "Toyota\n"
     ]
    }
   ],
   "source": [
    "cars = [\"기아\", \"현대\", \"BMW\", \"audi\", \"toyota\"]\n",
    "for car in cars:\n",
    "    if car == \"bmw\": #==은 논리연사자로 같다,!=다르다\n",
    "        print(car.upper())\n",
    "    else:\n",
    "        print(car.title()) #타이틀 앞자만 대문자   \n",
    "   "
   ]
  },
  {
   "cell_type": "code",
   "execution_count": 58,
   "metadata": {},
   "outputs": [
    {
     "data": {
      "text/plain": [
       "False"
      ]
     },
     "execution_count": 58,
     "metadata": {},
     "output_type": "execute_result"
    }
   ],
   "source": [
    "score = 90\n",
    "score < 90"
   ]
  },
  {
   "cell_type": "code",
   "execution_count": 59,
   "metadata": {},
   "outputs": [
    {
     "data": {
      "text/plain": [
       "False"
      ]
     },
     "execution_count": 59,
     "metadata": {},
     "output_type": "execute_result"
    }
   ],
   "source": [
    "score = 90\n",
    "score != 90 "
   ]
  },
  {
   "cell_type": "code",
   "execution_count": 60,
   "metadata": {},
   "outputs": [
    {
     "data": {
      "text/plain": [
       "True"
      ]
     },
     "execution_count": 60,
     "metadata": {},
     "output_type": "execute_result"
    }
   ],
   "source": [
    "우리반학생 = [\"길은호\", \"김응두\",\"손은찬\"]\n",
    "\"김응두\" in 우리반학생 #우리반학생에 김응두가 있는가?, not in(없나), "
   ]
  },
  {
   "cell_type": "code",
   "execution_count": 61,
   "metadata": {},
   "outputs": [
    {
     "data": {
      "text/plain": [
       "(True, False)"
      ]
     },
     "execution_count": 61,
     "metadata": {},
     "output_type": "execute_result"
    }
   ],
   "source": [
    "True, False #첫글자 대문자 사용"
   ]
  },
  {
   "cell_type": "code",
   "execution_count": 62,
   "metadata": {},
   "outputs": [
    {
     "name": "stdout",
     "output_type": "stream",
     "text": [
      "게임오버\n"
     ]
    }
   ],
   "source": [
    "game_over = True\n",
    "if game_over == True: #이프는 참이 있어야 함, game_over가 true라면\n",
    "    print(\"게임오버\")\n",
    "else:\n",
    "    print(\"게임중\")    "
   ]
  },
  {
   "cell_type": "code",
   "execution_count": 67,
   "metadata": {},
   "outputs": [
    {
     "name": "stdout",
     "output_type": "stream",
     "text": [
      "게임중\n"
     ]
    }
   ],
   "source": [
    "game_over = []\n",
    "if game_over: #이프는 참이 있어야 함, game_over가 true라면\n",
    "    print(\"게임오버\")\n",
    "else:\n",
    "    print(\"게임중\")   "
   ]
  },
  {
   "cell_type": "code",
   "execution_count": 68,
   "metadata": {},
   "outputs": [
    {
     "name": "stdout",
     "output_type": "stream",
     "text": [
      "상\n"
     ]
    }
   ],
   "source": [
    "점수 = 90\n",
    "#90점 이상은 상, 80점 이상은 중 나머지는 하\n",
    "if 점수 >= 90:\n",
    "    print(\"상\")\n",
    "else:\n",
    "    if 점수 <90 and 점수 >=80: #이미90점 이상은 윗줄에서 걸러짐\n",
    "        print(\"중\")\n",
    "    else:\n",
    "        print(\"하\")    \n"
   ]
  },
  {
   "cell_type": "code",
   "execution_count": 70,
   "metadata": {},
   "outputs": [
    {
     "name": "stdout",
     "output_type": "stream",
     "text": [
      "중\n"
     ]
    }
   ],
   "source": [
    "점수 = 87\n",
    "#90점 이상은 상, 80점 이상은 중 나머지는 하\n",
    "if 점수 >= 90:\n",
    "    print(\"상\")\n",
    "else:\n",
    "    if 점수 >=80: #이미90점 이상은 윗줄에서 걸러짐\n",
    "        print(\"중\")\n",
    "    else:\n",
    "        print(\"하\")    "
   ]
  },
  {
   "cell_type": "code",
   "execution_count": 73,
   "metadata": {},
   "outputs": [
    {
     "name": "stdout",
     "output_type": "stream",
     "text": [
      "하\n"
     ]
    }
   ],
   "source": [
    "점수 = 79\n",
    "#90점 이상은 상, 80점 이상은 중 나머지는 하\n",
    "if 점수 >= 90:\n",
    "    print(\"상\")\n",
    "elif 점수 >=80: #이미90점 이상은 윗줄에서 걸러짐\n",
    "        print(\"중\") #한칸만 뛰어도 맞음, 띄우는 칸의 갯수는 상관없음,나머지 아랫줄과는 줄만 맞으면 됨\n",
    "else:\n",
    "        print(\"하\")    "
   ]
  },
  {
   "cell_type": "code",
   "execution_count": 74,
   "metadata": {},
   "outputs": [
    {
     "name": "stdout",
     "output_type": "stream",
     "text": [
      "상\n",
      "중\n",
      "하\n",
      "하\n",
      "하\n",
      "상\n",
      "하\n",
      "하\n"
     ]
    }
   ],
   "source": [
    "점수들 = [100,80,54,78,69,98,56,45] #반복할 경우\n",
    "#90점 이상은 상, 80점 이상은 중 나머지는 하\n",
    "for 점수 in 점수들:\n",
    " if 점수 >= 90:  \n",
    "     print(\"상\")\n",
    " elif 점수 >=80: #이미90점 이상은 윗줄에서 걸러짐\n",
    "        print(\"중\") #한칸만 뛰어도 맞음, 띄우는 칸의 갯수는 상관없음,나머지 아랫줄과는 줄만 맞으면 됨\n",
    " else:\n",
    "        print(\"하\")    "
   ]
  },
  {
   "cell_type": "code",
   "execution_count": 6,
   "metadata": {},
   "outputs": [
    {
     "ename": "SyntaxError",
     "evalue": "invalid syntax (1739990683.py, line 8)",
     "output_type": "error",
     "traceback": [
      "\u001b[0;36m  Cell \u001b[0;32mIn[6], line 8\u001b[0;36m\u001b[0m\n\u001b[0;31m    \"애완동물\":{\u001b[0m\n\u001b[0m          ^\u001b[0m\n\u001b[0;31mSyntaxError\u001b[0m\u001b[0;31m:\u001b[0m invalid syntax\n"
     ]
    }
   ],
   "source": [
    "나 = {\n",
    "    \"이름\":\"이호연\",\n",
    "    \"학교\":\"청산고\",\n",
    "    \"나이\":46,\n",
    "    \"취미\":[\"독서\", \"제빵\", \"영상\"],\n",
    "    0:\"이것도 가능?\",\n",
    "    0:\"중복키입니다.\"\n",
    "    \"애완동물\":{\n",
    "        \"이름\":\"코코\",\n",
    "        \"나이\":9\n",
    "    }\n",
    "}"
   ]
  },
  {
   "cell_type": "code",
   "execution_count": 13,
   "metadata": {},
   "outputs": [],
   "source": [
    "나 = {\n",
    "    \"이름\":\"이호연\",\n",
    "    \"학교\":\"청산고\",\n",
    "    \"나이\":46,\n",
    "    \"취미\":[\"독서\", \"제빵\", \"영상\"],\n",
    "    0:\"이것도 가능?\",\n",
    "    }\n"
   ]
  },
  {
   "cell_type": "code",
   "execution_count": 14,
   "metadata": {},
   "outputs": [
    {
     "data": {
      "text/plain": [
       "{'학교': '청산고', '나이': 46, '취미': ['독서', '제빵', '영상'], 0: '이것도 가능?'}"
      ]
     },
     "execution_count": 14,
     "metadata": {},
     "output_type": "execute_result"
    }
   ],
   "source": [
    "del 나[\"이름\"]\n",
    "나"
   ]
  },
  {
   "cell_type": "code",
   "execution_count": 16,
   "metadata": {},
   "outputs": [
    {
     "data": {
      "text/plain": [
       "46"
      ]
     },
     "execution_count": 16,
     "metadata": {},
     "output_type": "execute_result"
    }
   ],
   "source": [
    "나.pop(\"나이\")"
   ]
  },
  {
   "cell_type": "code",
   "execution_count": 18,
   "metadata": {},
   "outputs": [
    {
     "name": "stdout",
     "output_type": "stream",
     "text": [
      "학교 청산고\n",
      "취미 ['독서', '제빵', '영상']\n",
      "0 이것도 가능?\n"
     ]
    }
   ],
   "source": [
    "for i in 나:\n",
    "    print(i, 나[i]) #순서가 지켜지지 않음\n"
   ]
  },
  {
   "cell_type": "code",
   "execution_count": 20,
   "metadata": {},
   "outputs": [
    {
     "name": "stdout",
     "output_type": "stream",
     "text": [
      "('학교', '청산고')\n",
      "('취미', ['독서', '제빵', '영상'])\n",
      "(0, '이것도 가능?')\n"
     ]
    }
   ],
   "source": [
    "나.keys()#키만 추출\n",
    "나.values() #값만 추출\n",
    "나.items() #키와 값을추출\n",
    "for item in 나.items():\n",
    "    print(item)"
   ]
  },
  {
   "cell_type": "code",
   "execution_count": 21,
   "metadata": {},
   "outputs": [
    {
     "name": "stdout",
     "output_type": "stream",
     "text": [
      "학교 청산고\n",
      "취미 ['독서', '제빵', '영상']\n",
      "0 이것도 가능?\n"
     ]
    }
   ],
   "source": [
    "나.keys()#키만 추출\n",
    "나.values() #값만 추출\n",
    "나.items() #키와 값을추출\n",
    "for k,v in 나.items():\n",
    "    print(k,v)"
   ]
  },
  {
   "cell_type": "code",
   "execution_count": 23,
   "metadata": {},
   "outputs": [
    {
     "name": "stdout",
     "output_type": "stream",
     "text": [
      "키는 학교이고,값은 청산고이다\n",
      "키는 취미이고,값은 ['독서', '제빵', '영상']이다\n",
      "키는 0이고,값은 이것도 가능?이다\n"
     ]
    }
   ],
   "source": [
    "나.keys()#키만 추출\n",
    "나.values() #값만 추출\n",
    "나.items() #키와 값을추출\n",
    "for k,v in 나.items():\n",
    "    print(f\"키는 {k}이고,값은 {v}이다\")"
   ]
  },
  {
   "cell_type": "code",
   "execution_count": 5,
   "metadata": {},
   "outputs": [
    {
     "data": {
      "text/plain": [
       "'중복키입니다.'"
      ]
     },
     "execution_count": 5,
     "metadata": {},
     "output_type": "execute_result"
    }
   ],
   "source": [
    "나[0]"
   ]
  }
 ],
 "metadata": {
  "kernelspec": {
   "display_name": "Python 3",
   "language": "python",
   "name": "python3"
  },
  "language_info": {
   "codemirror_mode": {
    "name": "ipython",
    "version": 3
   },
   "file_extension": ".py",
   "mimetype": "text/x-python",
   "name": "python",
   "nbconvert_exporter": "python",
   "pygments_lexer": "ipython3",
   "version": "3.10.13"
  }
 },
 "nbformat": 4,
 "nbformat_minor": 2
}
